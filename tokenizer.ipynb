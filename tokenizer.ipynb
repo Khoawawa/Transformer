{
 "cells": [
  {
   "cell_type": "code",
   "execution_count": 1,
   "metadata": {},
   "outputs": [],
   "source": [
    "from Tokenizer import BPE\n"
   ]
  },
  {
   "cell_type": "code",
   "execution_count": 2,
   "metadata": {},
   "outputs": [
    {
     "name": "stdout",
     "output_type": "stream",
     "text": [
      "Merging (32, 97) into a new token 256\n",
      "Merging (101, 32) into a new token 257\n",
      "Merging (115, 32) into a new token 258\n",
      "Merging (105, 110) into a new token 259\n",
      "Merging (101, 114) into a new token 260\n",
      "Merging (100, 32) into a new token 261\n",
      "Merging (97, 116) into a new token 262\n",
      "Merging (116, 104) into a new token 263\n",
      "Merging (97, 110) into a new token 264\n",
      "Merging (101, 110) into a new token 265\n",
      "Merging (256, 110) into a new token 266\n",
      "Merging (114, 101) into a new token 267\n",
      "Merging (259, 103) into a new token 268\n",
      "Merging (266, 261) into a new token 269\n",
      "Merging (116, 111) into a new token 270\n",
      "Merging (44, 32) into a new token 271\n",
      "Merging (111, 114) into a new token 272\n",
      "Merging (105, 99) into a new token 273\n",
      "Merging (97, 108) into a new token 274\n",
      "Merging (65, 73) into a new token 275\n"
     ]
    }
   ],
   "source": [
    "train_input = '''Artificial intelligence (AI) is transforming the world at an unprecedented pace. From self-driving cars to medical diagnostics, AI systems are revolutionizing industries and changing the way humans live and work. Machine learning, a subset of AI, allows systems to learn from data and improve their performance over time without being explicitly programmed. Deep learning, a specialized form of machine learning, uses neural networks with multiple layers to process complex data such as images, audio, and natural language.\n",
    "\n",
    "In recent years, advances in AI have led to remarkable breakthroughs in various fields. Natural language processing (NLP) enables computers to understand, interpret, and generate human language, facilitating applications such as chatbots, virtual assistants, and automated translation services. In healthcare, AI-powered algorithms are being used to detect diseases, develop treatment plans, and even predict patient outcomes. In finance, AI is employed to detect fraudulent transactions, automate trading, and provide personalized financial advice.\n",
    "\n",
    "Despite its many benefits, AI also raises significant ethical and societal concerns. Issues such as data privacy, algorithmic bias, and job displacement are critical challenges that must be addressed to ensure the responsible and fair deployment of AI technologies. Policymakers, researchers, and industry leaders must work together to establish guidelines and best practices for the development and use of AI systems.\n",
    "\n",
    "The future of AI holds immense potential. As research continues to advance, AI systems are expected to become even more powerful and versatile. Emerging technologies such as quantum computing may further accelerate AI innovation, opening up new possibilities and applications. However, with great power comes great responsibility. Ensuring that AI is developed and used in a manner that benefits society as a whole is a task that will require ongoing collaboration, vigilance, and thoughtful consideration.\n",
    "\n",
    "Whether we are ready or not, the AI-driven future is rapidly approaching. It is up to all of us to navigate this new era with wisdom and foresight, leveraging the power of AI to create a better, more inclusive, and more sustainable world.\n",
    "'''\n",
    "bpe = BPE(train_input)"
   ]
  },
  {
   "cell_type": "code",
   "execution_count": null,
   "metadata": {},
   "outputs": [
    {
     "name": "stdout",
     "output_type": "stream",
     "text": [
      "hello world\n"
     ]
    }
   ],
   "source": [
    "print(bpe.decode(bpe.encode('hello world')))\n"
   ]
  },
  {
   "cell_type": "code",
   "execution_count": 5,
   "metadata": {},
   "outputs": [
    {
     "name": "stdout",
     "output_type": "stream",
     "text": [
      "True\n"
     ]
    }
   ],
   "source": [
    "input = '''The quick brown fox jumps over the lazy dog. \n",
    "This sentence contains every letter of the alphabet. \n",
    "It is often used for typing practice and font testing.\n",
    "The quick brown fox is known for its speed and agility.\n",
    "Lazy dogs prefer resting rather than chasing foxes around.\n",
    "'''\n",
    "print(bpe.decode(bpe.encode(input)) == input)\n"
   ]
  }
 ],
 "metadata": {
  "kernelspec": {
   "display_name": "Python 3",
   "language": "python",
   "name": "python3"
  },
  "language_info": {
   "codemirror_mode": {
    "name": "ipython",
    "version": 3
   },
   "file_extension": ".py",
   "mimetype": "text/x-python",
   "name": "python",
   "nbconvert_exporter": "python",
   "pygments_lexer": "ipython3",
   "version": "3.11.9"
  }
 },
 "nbformat": 4,
 "nbformat_minor": 2
}
